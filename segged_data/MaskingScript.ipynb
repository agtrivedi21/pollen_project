{
 "cells": [
  {
   "cell_type": "code",
   "execution_count": 1,
   "metadata": {},
   "outputs": [],
   "source": [
    "import cv2\n",
    "import numpy as np"
   ]
  },
  {
   "cell_type": "code",
   "execution_count": 2,
   "metadata": {},
   "outputs": [],
   "source": [
    "### Class Flag"
   ]
  },
  {
   "cell_type": "code",
   "execution_count": 3,
   "metadata": {},
   "outputs": [],
   "source": [
    "CLASS_NUM = '4'"
   ]
  },
  {
   "cell_type": "markdown",
   "metadata": {},
   "source": [
    "### Constants"
   ]
  },
  {
   "cell_type": "code",
   "execution_count": 4,
   "metadata": {},
   "outputs": [],
   "source": [
    "SEG_REL_PATH = './segmented_pollen/' + CLASS_NUM + '/'\n",
    "ORIG_REL_PATH = './orig_pollen_rgb/' + CLASS_NUM + '/'\n",
    "SEG_RGB_REL_PATH = './seg_pollen_rgb/' + CLASS_NUM + '/'"
   ]
  },
  {
   "cell_type": "markdown",
   "metadata": {},
   "source": [
    "### Functions"
   ]
  },
  {
   "cell_type": "markdown",
   "metadata": {},
   "source": [
    "### Count number of each label in the top row"
   ]
  },
  {
   "cell_type": "code",
   "execution_count": 5,
   "metadata": {},
   "outputs": [],
   "source": [
    "def topEdgeSum(img):\n",
    "    value_1 = img.max()\n",
    "    value_2 = img.min()\n",
    "    value_1_count = 0\n",
    "    value_2_count = 0\n",
    "    for i in range(img.shape[0]):\n",
    "        if img[0][i] == value_1:\n",
    "            value_1_count+=1\n",
    "        elif img[0][i] == value_2:\n",
    "            value_2_count+=1\n",
    "        else:\n",
    "            print('found a value other than the two we know of. image is supposed to be binary')\n",
    "    return np.array([value_1_count, value_2_count])"
   ]
  },
  {
   "cell_type": "markdown",
   "metadata": {},
   "source": [
    "### Count number of each label on left edge"
   ]
  },
  {
   "cell_type": "code",
   "execution_count": 6,
   "metadata": {},
   "outputs": [],
   "source": [
    "def leftEdgeSum(img):\n",
    "    value_1 = img.max()\n",
    "    value_2 = img.min()\n",
    "    value_1_count = 0\n",
    "    value_2_count = 0\n",
    "    for i in range(1, img.shape[1]):\n",
    "        if img[i][0] == value_1:\n",
    "            value_1_count+=1\n",
    "        elif img[i][0] == value_2:\n",
    "            value_2_count+=1\n",
    "        else:\n",
    "            print('found a value other than the two we know of. image is supposed to be binary')\n",
    "    return np.array([value_1_count, value_2_count])"
   ]
  },
  {
   "cell_type": "markdown",
   "metadata": {},
   "source": [
    "### Count number of each label on right edge"
   ]
  },
  {
   "cell_type": "code",
   "execution_count": 7,
   "metadata": {},
   "outputs": [],
   "source": [
    "def rightEdgeSum(img):\n",
    "    value_1 = img.max()\n",
    "    value_2 = img.min()\n",
    "    value_1_count = 0\n",
    "    value_2_count = 0\n",
    "    for i in range(1, img.shape[1]):\n",
    "        if img[i][img.shape[1] - 1] == value_1:\n",
    "            value_1_count+=1\n",
    "        elif img[i][img.shape[1] - 1]:\n",
    "            value_2_count+=1\n",
    "        else:\n",
    "            print('found a value other than the two we know of. image is supposed to be binary')\n",
    "    return np.array([value_1_count, value_2_count])"
   ]
  },
  {
   "cell_type": "markdown",
   "metadata": {},
   "source": [
    "### Count number of each label on the bottom"
   ]
  },
  {
   "cell_type": "code",
   "execution_count": 8,
   "metadata": {},
   "outputs": [],
   "source": [
    "def bottomEdgeSum(img):\n",
    "    value_1 = img.max()\n",
    "    value_2 = img.min()\n",
    "    value_1_count = 0\n",
    "    value_2_count = 0\n",
    "    for i in range(1, img.shape[1] - 1):\n",
    "        if img[img.shape[1] - 1, i] == value_1:\n",
    "            value_1_count+=1\n",
    "        elif img[img.shape[1] - 1, i] == value_2:\n",
    "            value_2_count+=1\n",
    "        else:\n",
    "            print('found a value other than the two we know of. image is supposed to be binary')\n",
    "    return np.array([value_1_count, value_2_count])"
   ]
  },
  {
   "cell_type": "markdown",
   "metadata": {},
   "source": [
    "### Read in names of all input image files"
   ]
  },
  {
   "cell_type": "code",
   "execution_count": 9,
   "metadata": {},
   "outputs": [
    {
     "name": "stdout",
     "output_type": "stream",
     "text": [
      "677\n",
      "20190402163125_OBJ_0_1143_704.png\n"
     ]
    }
   ],
   "source": [
    "with open(SEG_REL_PATH + '/names.txt') as f:\n",
    "    image_names = f.read().splitlines()\n",
    "print(len(image_names))\n",
    "print(image_names[0])"
   ]
  },
  {
   "cell_type": "markdown",
   "metadata": {},
   "source": [
    "### Iterate over all of the images"
   ]
  },
  {
   "cell_type": "code",
   "execution_count": 10,
   "metadata": {},
   "outputs": [],
   "source": [
    "for image_name in image_names:\n",
    "    img = cv2.imread(SEG_REL_PATH + image_name, cv2.IMREAD_UNCHANGED) \n",
    "    label_counts = topEdgeSum(img) + leftEdgeSum(img) + rightEdgeSum(img) + bottomEdgeSum(img)\n",
    "    if label_counts[0] > label_counts[1]:\n",
    "        background_value = img.max()\n",
    "        foreground_value = img.min()\n",
    "    else:\n",
    "        background_value = img.min()\n",
    "        foreground_value = img.max()\n",
    "    # Create mask by changing background values to 0, pollen values to 1\n",
    "    mask = [[[0,0,0] if x == background_value else [1,1,1] for x in img[y]] for y in range(img.shape[1])]\n",
    "    orig_img = cv2.imread(ORIG_REL_PATH + image_name, cv2.IMREAD_UNCHANGED)\n",
    "    orig_img = orig_img * mask\n",
    "    cv2.imwrite(SEG_RGB_REL_PATH + image_name, orig_img)"
   ]
  }
 ],
 "metadata": {
  "kernelspec": {
   "display_name": "Python 3",
   "language": "python",
   "name": "python3"
  },
  "language_info": {
   "codemirror_mode": {
    "name": "ipython",
    "version": 3
   },
   "file_extension": ".py",
   "mimetype": "text/x-python",
   "name": "python",
   "nbconvert_exporter": "python",
   "pygments_lexer": "ipython3",
   "version": "3.7.6"
  }
 },
 "nbformat": 4,
 "nbformat_minor": 2
}
